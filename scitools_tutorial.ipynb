{
 "cells": [
  {
   "cell_type": "markdown",
   "metadata": {},
   "source": [
    "# NASA Space Apps Challenge 2019: Iris + Cartopy Tutorial\n",
    "\n",
    "### Friday 18th October 2019, 11:00 - 12:30\n",
    "\n",
    "This tutorial introduces Iris and Cartopy, two open-source Python libraries written and maintained by the AVD Team at the Met Office.\n",
    "\n",
    "## Contents\n",
    "\n",
    "<ol>\n",
    "    <li><a href=\"#Introduction\">Introduction</a></li>\n",
    "    <li><a href=\"#Brief-Intro-to-Numpy-and-Matplotlib\">Brief Intro to Numpy and Matplotlib</a></li>\n",
    "    <li><a href=\"#Iris\">Iris</a></li>\n",
    "    <li><a href=\"#Cartopy\">Cartopy</a></li>\n",
    "    <li><a href=\"#Final-Exercise\">Final Exercise</a></li>\n",
    "</ol>"
   ]
  },
  {
   "cell_type": "markdown",
   "metadata": {},
   "source": [
    "***"
   ]
  },
  {
   "cell_type": "markdown",
   "metadata": {},
   "source": [
    "## Introduction\n",
    "### About Scitools\n",
    "\n",
    "Scitools is a collection of Python-based open source tools for Earth scientists to analyse and visualise their data.\n",
    "\n",
    "[Iris](https://scitools.org.uk/iris/docs/latest/) and [Cartopy](https://github.com/SciTools/cartopy) are two of the key packages. \n",
    "\n",
    "<table><tr>\n",
    "    <td> <img src=\"images/iris_logo.png\" style=\"width: 350px;\"/> </td>\n",
    "    <td> <img src=\"images/cartopy_logo.png\" style=\"width: 350px;\"/> </td>\n",
    "</tr></table>\n",
    "\n",
    "**Iris** does data manipulation and file i/o, using other third-party python packages such as:\n",
    "  * [numpy](https://github.com/numpy/numpy)\n",
    "  * [scipy](https://github.com/scipy/scipy)\n",
    "  * [netCDF4-python](https://github.com/Unidata/netcdf4-python)\n",
    "  * [dask](https://dask.pydata.org/en/latest/)\n",
    "\n",
    "**Cartopy** adds data visualisation and mapping, based on :\n",
    "  * [matplotlib](https//github.com/matplotlib/matplotlib)\n",
    "  * [proj4](https://github.com/OSGeo/PROJ)\n",
    "\n",
    "### Further Resources\n",
    "This is only a _very brief_ overview of Iris and Cartopy. To find out more, see the below links.\n",
    "\n",
    "There are online introductory self-teach courses here:\n",
    "   * https://github.com/SciTools/courses\n",
    "   \n",
    "Full documentation can be found below:\n",
    "   * https://scitools.org.uk/iris/docs/latest/\n",
    "   * https://scitools.org.uk/cartopy/docs/latest/\n",
    "\n",
    "\n",
    "### Acknowledgements\n",
    "Much of this tutorial comes from a previous tutorial given by Pete Killick, with modifications from Patrick Peglar and Alastair Gemmell.\n",
    "\n",
    "<hr style=\"border-top: dashed 1px;\" />\n",
    "\n",
    "### Set Up\n",
    "\n",
    "Let's import all the libraries we'll need for this notebook"
   ]
  },
  {
   "cell_type": "code",
   "execution_count": 3,
   "metadata": {},
   "outputs": [],
   "source": [
    "import sys\n",
    "\n",
    "sys.path.append('/project/avd/iris/resources/git/iris-sample-data')\n",
    "\n",
    "import iris_sample_data"
   ]
  },
  {
   "cell_type": "code",
   "execution_count": 4,
   "metadata": {},
   "outputs": [],
   "source": [
    "import cartopy.crs as ccrs\n",
    "import cartopy.feature as cfeat\n",
    "import cartopy.io.shapereader as shpreader\n",
    "import iris\n",
    "\n",
    "import cartopy.crs as ccrs\n",
    "import matplotlib.pyplot as plt\n",
    "import numpy as np"
   ]
  },
  {
   "cell_type": "markdown",
   "metadata": {},
   "source": [
    "***"
   ]
  },
  {
   "cell_type": "markdown",
   "metadata": {},
   "source": [
    "## Brief Intro to Numpy and Matplotlib\n",
    "\n",
    "As Iris and Cartopy build on Numpy and Matplotlib, we start by briefly covering the basics of these libraries.\n",
    "\n",
    "<table><tr>\n",
    "    <td> <img src=\"images/numpy_logo.svg\" style=\"width: 350px;\"/> </td>\n",
    "    <td> <img src=\"images/matplotlib_logo.png\" style=\"width: 350px;\"/> </td>\n",
    "</tr></table>\n",
    "\n",
    "_(Image Credit: https://github.com/numpy/numpy/blob/master/branding/icons/numpylogo.svg\n",
    "and https://matplotlib.org/3.1.0/gallery/misc/logos2.html)_\n",
    "\n",
    "\n",
    "In this section we will cover,\n",
    "<ol>\n",
    "    <li><a href=\"#Numpy\">Numpy</a></li>\n",
    "    <ul>\n",
    "        <li><a href=\"#Numpy:-Exercise\">Exercise</a></li>\n",
    "        <li><a href=\"#Numpy:-Further-Resources\">Further-Resources</a></li>\n",
    "    </ul>\n",
    "    <li><a href=\"#Matplotlib\">Matplotlib</a></li>\n",
    "        <ul>\n",
    "        <li><a href=\"#Matplotlib:-Exercise\">Exercise</a></li>\n",
    "        <li><a href=\"#Matplotlib:-Further-Resources\">Further-Resources</a></li>\n",
    "    </ul>\n",
    "</ol>\n",
    "\n",
    "### Set Up\n",
    "\n",
    "Let's import all the libraries we'll need for this notebook\n",
    "\n",
    "### Numpy\n",
    "\n",
    "\n",
    "[Numpy](https://numpy.org) is a library for working with multidimensional data. The core object, a numpy array, stores the data values\n",
    "\n",
    "We can simply create a numpy array from a Python list as below:"
   ]
  },
  {
   "cell_type": "code",
   "execution_count": 5,
   "metadata": {},
   "outputs": [
    {
     "name": "stdout",
     "output_type": "stream",
     "text": [
      "[1 2 3]\n",
      "(3,)\n"
     ]
    }
   ],
   "source": [
    "a = np.array([1, 2, 3])\n",
    "print(a)\n",
    "print(a.shape)"
   ]
  },
  {
   "cell_type": "markdown",
   "metadata": {},
   "source": [
    "Numpy provides many functions to easily create arrays.\n",
    "\n",
    "Below shows examples of creating an array, where all the values are `1` and creating an array of random values."
   ]
  },
  {
   "cell_type": "code",
   "execution_count": 6,
   "metadata": {},
   "outputs": [
    {
     "name": "stdout",
     "output_type": "stream",
     "text": [
      "[[[1. 1. 1.]\n",
      "  [1. 1. 1.]\n",
      "  [1. 1. 1.]]\n",
      "\n",
      " [[1. 1. 1.]\n",
      "  [1. 1. 1.]\n",
      "  [1. 1. 1.]]]\n",
      "(2, 3, 3)\n"
     ]
    }
   ],
   "source": [
    "# Create a 3D array of ones of shape (2,3,3)\n",
    "ones = np.ones((2, 3, 3))\n",
    "print(ones)\n",
    "print(ones.shape)"
   ]
  },
  {
   "cell_type": "code",
   "execution_count": 7,
   "metadata": {},
   "outputs": [
    {
     "name": "stdout",
     "output_type": "stream",
     "text": [
      "[[0.22785235 0.62631956 0.75854072 0.50869223 0.10242547]\n",
      " [0.65244344 0.2346821  0.66138552 0.36989187 0.34780359]\n",
      " [0.62072612 0.88510986 0.08036053 0.67330187 0.02823841]]\n"
     ]
    }
   ],
   "source": [
    "# Create a 2D array of random values, of shape (2,2)\n",
    "random_array = np.random.random((3, 5))\n",
    "print(random_array)"
   ]
  },
  {
   "cell_type": "markdown",
   "metadata": {},
   "source": [
    "We can select a subset of the data array with indexing.\n",
    "\n",
    "We describe what data we want to extract by specifying a `start:stop` for each dimension."
   ]
  },
  {
   "cell_type": "code",
   "execution_count": 8,
   "metadata": {},
   "outputs": [
    {
     "name": "stdout",
     "output_type": "stream",
     "text": [
      "[2 5]\n"
     ]
    }
   ],
   "source": [
    "# Select the first two rows from the first dimension, and the `1`th column\n",
    "a = np.array([[1, 2, 3],\n",
    "              [4, 5, 6],\n",
    "              [7, 8, 9]])\n",
    "a_subset = a[0:2, 1]\n",
    "print(a_subset)"
   ]
  },
  {
   "cell_type": "markdown",
   "metadata": {},
   "source": [
    "Numpy allows you to do mathematical operations on these numpy arrays.\n",
    "\n",
    "For example we can perform multiply each element in the array by a value."
   ]
  },
  {
   "cell_type": "code",
   "execution_count": 9,
   "metadata": {},
   "outputs": [
    {
     "name": "stdout",
     "output_type": "stream",
     "text": [
      "[[10 20 30]\n",
      " [40 50 60]\n",
      " [70 80 90]]\n"
     ]
    }
   ],
   "source": [
    "# Multiply the `a` array by 10.\n",
    "a_ten = a * 10\n",
    "print(a_ten)"
   ]
  },
  {
   "cell_type": "markdown",
   "metadata": {},
   "source": [
    "We can also calculate the average value in the array, or sum all values in the array."
   ]
  },
  {
   "cell_type": "code",
   "execution_count": 10,
   "metadata": {},
   "outputs": [
    {
     "name": "stdout",
     "output_type": "stream",
     "text": [
      "5.0\n"
     ]
    }
   ],
   "source": [
    "# Calculate the mean value of the array. \n",
    "a_mean = np.mean(a)\n",
    "print(a_mean)"
   ]
  },
  {
   "cell_type": "code",
   "execution_count": 11,
   "metadata": {},
   "outputs": [
    {
     "name": "stdout",
     "output_type": "stream",
     "text": [
      "45\n"
     ]
    }
   ],
   "source": [
    "# Sum all values in the array.\n",
    "a_sum = np.sum(a)\n",
    "print(a_sum)"
   ]
  },
  {
   "cell_type": "markdown",
   "metadata": {},
   "source": [
    "#### Numpy: Exercise\n",
    "Your turn! \n",
    "Apply what you have learnt so far to do the following:\n",
    "1. Using `np.ones` create an array of shape (2, 3)\n",
    "2. Multiply each element by 5 \n",
    "3. Compute the sum of all the values in the array from step 2.\n"
   ]
  },
  {
   "cell_type": "code",
   "execution_count": null,
   "metadata": {},
   "outputs": [],
   "source": []
  },
  {
   "cell_type": "markdown",
   "metadata": {},
   "source": [
    "#### Numpy: Further Resources\n",
    "\n",
    "For more information, see the Numpy Documentation:\n",
    "* https://docs.scipy.org/doc/numpy/\n",
    "\n",
    "Particularly, the reference manual, which explains each function and object in detail, often with helpful examples:\n",
    "* https://docs.scipy.org/doc/numpy/reference/index.html\n",
    "\n",
    "<hr style=\"border-top: dashed 1px;\" />"
   ]
  },
  {
   "cell_type": "markdown",
   "metadata": {},
   "source": [
    "### Matplotlib\n",
    "\n",
    "[Matplotlib](https://matplotlib.org/index.html) is a widely used Python package to produce 2D graphics.\n",
    "\n",
    "A convenient way to use Matplotlib is via the `pyplot` sub-package.\n",
    "\n",
    "Matplotlib makes it very simple to create plots of data. Below we create a line plot"
   ]
  },
  {
   "cell_type": "code",
   "execution_count": 12,
   "metadata": {},
   "outputs": [
    {
     "data": {
      "image/png": "[encoded data removed]",
      "text/plain": [
       "<Figure size 432x288 with 1 Axes>"
      ]
     },
     "metadata": {
      "needs_background": "light"
     },
     "output_type": "display_data"
    }
   ],
   "source": [
    "plt.plot([1, 10, 3, 20])\n",
    "plt.show()"
   ]
  },
  {
   "cell_type": "markdown",
   "metadata": {},
   "source": [
    "Matplotlib provides many different types of plot. For example below we create a 2D numpy array of random values then plot a pcolourmesh of this data."
   ]
  },
  {
   "cell_type": "code",
   "execution_count": 13,
   "metadata": {},
   "outputs": [
    {
     "data": {
      "text/plain": [
       "<matplotlib.collections.QuadMesh at 0x7f7fcfeae0f0>"
      ]
     },
     "execution_count": 13,
     "metadata": {},
     "output_type": "execute_result"
    },
    {
     "data": {
      "image/png": "[encoded data removed]",
      "text/plain": [
       "<Figure size 432x288 with 1 Axes>"
      ]
     },
     "metadata": {
      "needs_background": "light"
     },
     "output_type": "display_data"
    }
   ],
   "source": [
    "data = np.random.random((10, 10))\n",
    "plt.pcolormesh(data)"
   ]
  },
  {
   "cell_type": "markdown",
   "metadata": {},
   "source": [
    "When matplotlib creates a plot, it will create an `Axes` object. You can use this axes object to modify your plot, sucha s adding a title or other annotation.\n",
    "\n",
    "Below we create a scatter plot and then label such as labelling your axes."
   ]
  },
  {
   "cell_type": "code",
   "execution_count": 14,
   "metadata": {},
   "outputs": [
    {
     "data": {
      "image/png": "[encoded data removed]",
      "text/plain": [
       "<Figure size 432x288 with 1 Axes>"
      ]
     },
     "metadata": {
      "needs_background": "light"
     },
     "output_type": "display_data"
    }
   ],
   "source": [
    "x = np.random.random((100,))\n",
    "y = np.random.random((100,))\n",
    "\n",
    "plt.scatter(x, y)\n",
    "ax = plt.gca() # Get the current axes object.\n",
    "ax.set_title(\"Scatter Plot of Random x's and y's\")\n",
    "plt.savefig('simple.png')\n",
    "plt.show()"
   ]
  },
  {
   "cell_type": "markdown",
   "metadata": {},
   "source": [
    "In the above example, we saved the figure matplotlib produced using `plt.savefig`. \n",
    "\n",
    "_NOTE:_ you must do this before calling `plt.show`."
   ]
  },
  {
   "cell_type": "markdown",
   "metadata": {},
   "source": [
    "### Matplotlib: Exercise\n",
    "\n",
    "Apply what you have learnt about Numpy and Matplotlib to do the following\n",
    "1. Create a random array of shape (5,)\n",
    "2. Using `plt.plot` create a line plot of this array"
   ]
  },
  {
   "cell_type": "code",
   "execution_count": null,
   "metadata": {},
   "outputs": [],
   "source": []
  },
  {
   "cell_type": "markdown",
   "metadata": {},
   "source": [
    "### Matplotlib: Further Resources\n",
    "\n",
    "As with Numpy, Matplotlib is widely used and so there is a extensive amount of help online, include many nice examples.\n",
    "\n",
    "For more information, see:\n",
    "* [Matplotlib documentation](https://matplotlib.org/index.html)\n",
    "* [Matplotlib gallery of examples](https://matplotlib.org/gallery/index.html)\n"
   ]
  },
  {
   "cell_type": "markdown",
   "metadata": {},
   "source": [
    "***"
   ]
  },
  {
   "cell_type": "markdown",
   "metadata": {},
   "source": [
    "## Iris\n",
    "\n",
    "Iris provides a consistent Python interface for loading, saving, analysing and visualising different weather and climate data formats.\n",
    "\n",
    "Functionality:\n",
    "* visualisation of data\n",
    "* unit conversion (e.g. convert temperature values from Celsius to Fahrenheit)\n",
    "* subsetting and extraction (e.g. select data within +/- 5 degrees latitude of the equator)\n",
    "* merge and concatenate (e.g. combine data )\n",
    "* mathematical operations (`+`, `-`, `*`, `/`)\n",
    "* statistical operations (e.g. \n",
    "* interpolation and regridding (nearest neighbour)\n",
    "\n",
    "Contents:\n",
    "<ol>\n",
    "        <li><a href=\"#The Cube\">The Cube</a></li>\n",
    "        <li><a href=\"#Coordinates\">Coordinates</a></li>\n",
    "        <li>Real and Lazy data</li>\n",
    "        <li><a href=\"#Subsetting-Cubes\">Subsetting Cubes</a></li>\n",
    "        <li><a href=\"#Combining-Cubes\">Combining Cubes</a></li>\n",
    "        <li><a href=\"#Plotting\">Plotting</a></li>\n",
    "        <li><a href=\"#Analysis-and-Statistics\">Analysis and Statistics</a></li>\n",
    "    </ol>"
   ]
  },
  {
   "cell_type": "markdown",
   "metadata": {},
   "source": [
    "### The Cube\n",
    "\n",
    "The cube is the data model used by Iris to represent to represents all datasets loaded in Iris. It is a Python object. At its most basic, a cube contains data (commonly a NumPy array) and metadata that describes the NumPy array (such as what the data in the NumPy array describe, the units of the data, where in space and time the data describe, and so on).\n",
    "\n",
    "To add some detail to this, a cube contains:\n",
    "\n",
    "* a single name (or \"phenomenon\") and units that describes what the cube represents\n",
    "* data (commonly a NumPy or dask array with a given shape) that are the actual values recorded for the phenomenon\n",
    "* coordinates that describe how the data are located in time and space\n",
    "* further metadata that describes the dataset, including:\n",
    "    * general attributes\n",
    "    * cell methods for describing statistical operations that have been applied to the dataset\n",
    "    * cell measures for describing the weighting of coordinate points\n",
    "    \n",
    "Let's take a simple example to demonstrate the Cube concept.\n",
    "\n",
    "Suppose we have a ``(3, 2, 4)`` NumPy array:\n",
    "\n",
    "![](images/multi_array.png)\n",
    "\n",
    "Where dimensions 0, 1, and 2 have lengths 3, 2 and 4 respectively.\n",
    "\n",
    "The Iris Cube to represent this data may consist of:\n",
    "\n",
    " * a standard name of \"air_temperature\" and units of \"kelvin\"\n",
    "\n",
    " * a data array of shape ``(3, 2, 4)``\n",
    "\n",
    " * a coordinate, mapping to dimension 0, consisting of:\n",
    "     * a standard name of \"height\" and units of \"meters\"\n",
    "     * an array of length 3 representing the 3 height points\n",
    "     \n",
    " * a coordinate, mapping to dimension 1, consisting of:\n",
    "     * a standard name of \"latitude\" and units of \"degrees\"\n",
    "     * an array of length 2 representing the 2 latitude points\n",
    "     * a coordinate system such that the latitude points could be fully located on the globe\n",
    "     \n",
    " * a coordinate, mapping to dimension 2, consisting of:\n",
    "     * a standard name of \"longitude\" and units of \"degrees\"\n",
    "     * an array of length 4 representing the 4 longitude points\n",
    "     * a coordinate system such that the longitude points could be fully located on the globe\n",
    "\n",
    "Pictorially the Cube has taken on more information than a simple array:\n",
    "\n",
    "![](images/multi_array_to_cube.png)"
   ]
  },
  {
   "cell_type": "markdown",
   "metadata": {},
   "source": [
    "Let's load a file from the [Iris sample data](https://github.com/SciTools/iris-sample-data) repository as an Iris cube and print the cube to take a look at Iris' representation of the cube object:"
   ]
  },
  {
   "cell_type": "code",
   "execution_count": 28,
   "metadata": {},
   "outputs": [
    {
     "name": "stdout",
     "output_type": "stream",
     "text": [
      "/project/avd/iris/resources/git/iris-sample-data/iris_sample_data/sample_data/wind_speed_lake_victoria.pp\n"
     ]
    }
   ],
   "source": [
    "fname = iris.sample_data_path('wind_speed_lake_victoria.pp')\n",
    "print(fname)"
   ]
  },
  {
   "cell_type": "code",
   "execution_count": 29,
   "metadata": {},
   "outputs": [
    {
     "name": "stdout",
     "output_type": "stream",
     "text": [
      "0: x_wind / (m s-1)                    (latitude: 14; longitude: 17)\n",
      "1: y_wind / (m s-1)                    (latitude: 14; longitude: 17)\n"
     ]
    }
   ],
   "source": [
    "cubes = iris.load(fname)\n",
    "print(cubes)"
   ]
  },
  {
   "cell_type": "markdown",
   "metadata": {},
   "source": [
    "`iris.load` returns an `iris.cube.CubeList` of all the cubes found in the file. From the above print out, we can see that Iris has found and loaded two cubes from the file, one representing \"x_wind\" and the other \"y_wind\". Each cube represents a 2D (latitude, longitude) data.\n",
    "\n",
    "To inspect the \"x_wind\" cube more closely, we can index the \"zeroth\" cube:"
   ]
  },
  {
   "cell_type": "code",
   "execution_count": 30,
   "metadata": {},
   "outputs": [
    {
     "data": {
      "text/html": [
       "\n",
       "<style>\n",
       "  a.iris {\n",
       "      text-decoration: none !important;\n",
       "  }\n",
       "  table.iris {\n",
       "      white-space: pre;\n",
       "      border: 1px solid;\n",
       "      border-color: #9c9c9c;\n",
       "      font-family: monaco, monospace;\n",
       "  }\n",
       "  th.iris {\n",
       "      background: #303f3f;\n",
       "      color: #e0e0e0;\n",
       "      border-left: 1px solid;\n",
       "      border-color: #9c9c9c;\n",
       "      font-size: 1.05em;\n",
       "      min-width: 50px;\n",
       "      max-width: 125px;\n",
       "  }\n",
       "  tr.iris :first-child {\n",
       "      border-right: 1px solid #9c9c9c !important;\n",
       "  }\n",
       "  td.iris-title {\n",
       "      background: #d5dcdf;\n",
       "      border-top: 1px solid #9c9c9c;\n",
       "      font-weight: bold;\n",
       "  }\n",
       "  .iris-word-cell {\n",
       "      text-align: left !important;\n",
       "      white-space: pre;\n",
       "  }\n",
       "  .iris-subheading-cell {\n",
       "      padding-left: 2em !important;\n",
       "  }\n",
       "  .iris-inclusion-cell {\n",
       "      padding-right: 1em !important;\n",
       "  }\n",
       "  .iris-panel-body {\n",
       "      padding-top: 0px;\n",
       "  }\n",
       "  .iris-panel-title {\n",
       "      padding-left: 3em;\n",
       "  }\n",
       "  .iris-panel-title {\n",
       "      margin-top: 7px;\n",
       "  }\n",
       "</style>\n",
       "<table class=\"iris\" id=\"140288391138160\">\n",
       "    <tr class=\"iris\">\n",
       "<th class=\"iris iris-word-cell\">X Wind (m s-1)</th>\n",
       "<th class=\"iris iris-word-cell\">latitude</th>\n",
       "<th class=\"iris iris-word-cell\">longitude</th>\n",
       "</tr>\n",
       "    <tr class=\"iris\">\n",
       "<td class=\"iris-word-cell iris-subheading-cell\">Shape</td>\n",
       "<td class=\"iris iris-inclusion-cell\">14</td>\n",
       "<td class=\"iris iris-inclusion-cell\">17</td>\n",
       "</td>\n",
       "    <tr class=\"iris\">\n",
       "    <td class=\"iris-title iris-word-cell\">Dimension coordinates</td>\n",
       "    <td class=\"iris-title\"></td>\n",
       "    <td class=\"iris-title\"></td>\n",
       "</tr>\n",
       "<tr class=\"iris\">\n",
       "    <td class=\"iris-word-cell iris-subheading-cell\">\tlatitude</td>\n",
       "    <td class=\"iris-inclusion-cell\">x</td>\n",
       "    <td class=\"iris-inclusion-cell\">-</td>\n",
       "</tr>\n",
       "<tr class=\"iris\">\n",
       "    <td class=\"iris-word-cell iris-subheading-cell\">\tlongitude</td>\n",
       "    <td class=\"iris-inclusion-cell\">-</td>\n",
       "    <td class=\"iris-inclusion-cell\">x</td>\n",
       "</tr>\n",
       "<tr class=\"iris\">\n",
       "    <td class=\"iris-title iris-word-cell\">Scalar coordinates</td>\n",
       "    <td class=\"iris-title\"></td>\n",
       "    <td class=\"iris-title\"></td>\n",
       "</tr>\n",
       "<tr class=\"iris\">\n",
       "    <td class=\"iris-word-cell iris-subheading-cell\">\tforecast_period</td>\n",
       "    <td class=\"iris-word-cell\" colspan=\"2\">777960.0 hours, bound=(777600.0, 778320.0) hours</td>\n",
       "</tr>\n",
       "<tr class=\"iris\">\n",
       "    <td class=\"iris-word-cell iris-subheading-cell\">\tforecast_reference_time</td>\n",
       "    <td class=\"iris-word-cell\" colspan=\"2\">1859-12-01 00:00:00</td>\n",
       "</tr>\n",
       "<tr class=\"iris\">\n",
       "    <td class=\"iris-word-cell iris-subheading-cell\">\theight</td>\n",
       "    <td class=\"iris-word-cell\" colspan=\"2\">10.0 m</td>\n",
       "</tr>\n",
       "<tr class=\"iris\">\n",
       "    <td class=\"iris-word-cell iris-subheading-cell\">\ttime</td>\n",
       "    <td class=\"iris-word-cell\" colspan=\"2\">1949-12-16 00:00:00, bound=(1949-12-01 00:00:00, 1950-01-01 00:00:00)</td>\n",
       "</tr>\n",
       "<tr class=\"iris\">\n",
       "    <td class=\"iris-title iris-word-cell\">Attributes</td>\n",
       "    <td class=\"iris-title\"></td>\n",
       "    <td class=\"iris-title\"></td>\n",
       "</tr>\n",
       "<tr class=\"iris\">\n",
       "    <td class=\"iris-word-cell iris-subheading-cell\">\tSTASH</td>\n",
       "    <td class=\"iris-word-cell\" colspan=\"2\">m01s03i225</td>\n",
       "</tr>\n",
       "<tr class=\"iris\">\n",
       "    <td class=\"iris-word-cell iris-subheading-cell\">\tsource</td>\n",
       "    <td class=\"iris-word-cell\" colspan=\"2\">Data from Met Office Unified Model</td>\n",
       "</tr>\n",
       "<tr class=\"iris\">\n",
       "    <td class=\"iris-title iris-word-cell\">Cell methods</td>\n",
       "    <td class=\"iris-title\"></td>\n",
       "    <td class=\"iris-title\"></td>\n",
       "</tr>\n",
       "<tr class=\"iris\">\n",
       "    <td class=\"iris-word-cell iris-subheading-cell\">\tmean</td>\n",
       "    <td class=\"iris-word-cell\" colspan=\"2\">time (1 hour)</td>\n",
       "</tr>\n",
       "</table>\n",
       "        "
      ],
      "text/plain": [
       "<iris 'Cube' of x_wind / (m s-1) (latitude: 14; longitude: 17)>"
      ]
     },
     "execution_count": 30,
     "metadata": {},
     "output_type": "execute_result"
    }
   ],
   "source": [
    "x_wind_cube = cubes[0]\n",
    "x_wind_cube"
   ]
  },
  {
   "cell_type": "markdown",
   "metadata": {},
   "source": [
    "### Fileformat Agnostic\n",
    "Iris supports loading of all major weather and climate fileformats - NetCDF as above, GRIB, FF & PP; as well as some fileformats that are more specific to the Met Office. Iris maintains the single common cube data model when loading datasets stored in all these different formats. This means all these file formats will be represented equivalently in Iris."
   ]
  },
  {
   "cell_type": "markdown",
   "metadata": {},
   "source": [
    "Let's load a different file"
   ]
  },
  {
   "cell_type": "code",
   "execution_count": 33,
   "metadata": {},
   "outputs": [
    {
     "name": "stdout",
     "output_type": "stream",
     "text": [
      "0: air_temperature / (K)               (time: 240; latitude: 37; longitude: 49)\n"
     ]
    }
   ],
   "source": [
    "fname = iris.sample_data_path('A1B_north_america.nc')\n",
    "cubes = iris.load(fname)\n",
    "print(cubes)"
   ]
  },
  {
   "cell_type": "markdown",
   "metadata": {},
   "source": [
    "This file contains a single cube of air temperature, measured in Kelvin, over North America, according to the A1B climate scenario. The cube represents 3D (time, latitude, longitude) data.\n",
    "\n",
    "As before, we can select the single cube from the cubelist that is returned by indexing."
   ]
  },
  {
   "cell_type": "code",
   "execution_count": 34,
   "metadata": {},
   "outputs": [
    {
     "data": {
      "text/html": [
       "\n",
       "<style>\n",
       "  a.iris {\n",
       "      text-decoration: none !important;\n",
       "  }\n",
       "  table.iris {\n",
       "      white-space: pre;\n",
       "      border: 1px solid;\n",
       "      border-color: #9c9c9c;\n",
       "      font-family: monaco, monospace;\n",
       "  }\n",
       "  th.iris {\n",
       "      background: #303f3f;\n",
       "      color: #e0e0e0;\n",
       "      border-left: 1px solid;\n",
       "      border-color: #9c9c9c;\n",
       "      font-size: 1.05em;\n",
       "      min-width: 50px;\n",
       "      max-width: 125px;\n",
       "  }\n",
       "  tr.iris :first-child {\n",
       "      border-right: 1px solid #9c9c9c !important;\n",
       "  }\n",
       "  td.iris-title {\n",
       "      background: #d5dcdf;\n",
       "      border-top: 1px solid #9c9c9c;\n",
       "      font-weight: bold;\n",
       "  }\n",
       "  .iris-word-cell {\n",
       "      text-align: left !important;\n",
       "      white-space: pre;\n",
       "  }\n",
       "  .iris-subheading-cell {\n",
       "      padding-left: 2em !important;\n",
       "  }\n",
       "  .iris-inclusion-cell {\n",
       "      padding-right: 1em !important;\n",
       "  }\n",
       "  .iris-panel-body {\n",
       "      padding-top: 0px;\n",
       "  }\n",
       "  .iris-panel-title {\n",
       "      padding-left: 3em;\n",
       "  }\n",
       "  .iris-panel-title {\n",
       "      margin-top: 7px;\n",
       "  }\n",
       "</style>\n",
       "<table class=\"iris\" id=\"140288391073240\">\n",
       "    <tr class=\"iris\">\n",
       "<th class=\"iris iris-word-cell\">Air Temperature (K)</th>\n",
       "<th class=\"iris iris-word-cell\">time</th>\n",
       "<th class=\"iris iris-word-cell\">latitude</th>\n",
       "<th class=\"iris iris-word-cell\">longitude</th>\n",
       "</tr>\n",
       "    <tr class=\"iris\">\n",
       "<td class=\"iris-word-cell iris-subheading-cell\">Shape</td>\n",
       "<td class=\"iris iris-inclusion-cell\">240</td>\n",
       "<td class=\"iris iris-inclusion-cell\">37</td>\n",
       "<td class=\"iris iris-inclusion-cell\">49</td>\n",
       "</td>\n",
       "    <tr class=\"iris\">\n",
       "    <td class=\"iris-title iris-word-cell\">Dimension coordinates</td>\n",
       "    <td class=\"iris-title\"></td>\n",
       "    <td class=\"iris-title\"></td>\n",
       "    <td class=\"iris-title\"></td>\n",
       "</tr>\n",
       "<tr class=\"iris\">\n",
       "    <td class=\"iris-word-cell iris-subheading-cell\">\ttime</td>\n",
       "    <td class=\"iris-inclusion-cell\">x</td>\n",
       "    <td class=\"iris-inclusion-cell\">-</td>\n",
       "    <td class=\"iris-inclusion-cell\">-</td>\n",
       "</tr>\n",
       "<tr class=\"iris\">\n",
       "    <td class=\"iris-word-cell iris-subheading-cell\">\tlatitude</td>\n",
       "    <td class=\"iris-inclusion-cell\">-</td>\n",
       "    <td class=\"iris-inclusion-cell\">x</td>\n",
       "    <td class=\"iris-inclusion-cell\">-</td>\n",
       "</tr>\n",
       "<tr class=\"iris\">\n",
       "    <td class=\"iris-word-cell iris-subheading-cell\">\tlongitude</td>\n",
       "    <td class=\"iris-inclusion-cell\">-</td>\n",
       "    <td class=\"iris-inclusion-cell\">-</td>\n",
       "    <td class=\"iris-inclusion-cell\">x</td>\n",
       "</tr>\n",
       "<tr class=\"iris\">\n",
       "    <td class=\"iris-title iris-word-cell\">Auxiliary coordinates</td>\n",
       "    <td class=\"iris-title\"></td>\n",
       "    <td class=\"iris-title\"></td>\n",
       "    <td class=\"iris-title\"></td>\n",
       "</tr>\n",
       "<tr class=\"iris\">\n",
       "    <td class=\"iris-word-cell iris-subheading-cell\">\tforecast_period</td>\n",
       "    <td class=\"iris-inclusion-cell\">x</td>\n",
       "    <td class=\"iris-inclusion-cell\">-</td>\n",
       "    <td class=\"iris-inclusion-cell\">-</td>\n",
       "</tr>\n",
       "<tr class=\"iris\">\n",
       "    <td class=\"iris-title iris-word-cell\">Scalar coordinates</td>\n",
       "    <td class=\"iris-title\"></td>\n",
       "    <td class=\"iris-title\"></td>\n",
       "    <td class=\"iris-title\"></td>\n",
       "</tr>\n",
       "<tr class=\"iris\">\n",
       "    <td class=\"iris-word-cell iris-subheading-cell\">\tforecast_reference_time</td>\n",
       "    <td class=\"iris-word-cell\" colspan=\"3\">1859-09-01 06:00:00</td>\n",
       "</tr>\n",
       "<tr class=\"iris\">\n",
       "    <td class=\"iris-word-cell iris-subheading-cell\">\theight</td>\n",
       "    <td class=\"iris-word-cell\" colspan=\"3\">1.5 m</td>\n",
       "</tr>\n",
       "<tr class=\"iris\">\n",
       "    <td class=\"iris-title iris-word-cell\">Attributes</td>\n",
       "    <td class=\"iris-title\"></td>\n",
       "    <td class=\"iris-title\"></td>\n",
       "    <td class=\"iris-title\"></td>\n",
       "</tr>\n",
       "<tr class=\"iris\">\n",
       "    <td class=\"iris-word-cell iris-subheading-cell\">\tConventions</td>\n",
       "    <td class=\"iris-word-cell\" colspan=\"3\">CF-1.5</td>\n",
       "</tr>\n",
       "<tr class=\"iris\">\n",
       "    <td class=\"iris-word-cell iris-subheading-cell\">\tModel scenario</td>\n",
       "    <td class=\"iris-word-cell\" colspan=\"3\">A1B</td>\n",
       "</tr>\n",
       "<tr class=\"iris\">\n",
       "    <td class=\"iris-word-cell iris-subheading-cell\">\tSTASH</td>\n",
       "    <td class=\"iris-word-cell\" colspan=\"3\">m01s03i236</td>\n",
       "</tr>\n",
       "<tr class=\"iris\">\n",
       "    <td class=\"iris-word-cell iris-subheading-cell\">\tsource</td>\n",
       "    <td class=\"iris-word-cell\" colspan=\"3\">Data from Met Office Unified Model 6.05</td>\n",
       "</tr>\n",
       "<tr class=\"iris\">\n",
       "    <td class=\"iris-title iris-word-cell\">Cell methods</td>\n",
       "    <td class=\"iris-title\"></td>\n",
       "    <td class=\"iris-title\"></td>\n",
       "    <td class=\"iris-title\"></td>\n",
       "</tr>\n",
       "<tr class=\"iris\">\n",
       "    <td class=\"iris-word-cell iris-subheading-cell\">\tmean</td>\n",
       "    <td class=\"iris-word-cell\" colspan=\"3\">time (6 hour)</td>\n",
       "</tr>\n",
       "</table>\n",
       "        "
      ],
      "text/plain": [
       "<iris 'Cube' of air_temperature / (K) (time: 240; latitude: 37; longitude: 49)>"
      ]
     },
     "execution_count": 34,
     "metadata": {},
     "output_type": "execute_result"
    }
   ],
   "source": [
    "a1b_cube = cubes[0]\n",
    "a1b_cube"
   ]
  },
  {
   "cell_type": "markdown",
   "metadata": {},
   "source": [
    "### Coordinates\n",
    "\n",
    "Coordinates are used to describe the location of a cube's data. This could be location on the earth's surface (i.e. latitudes and longitudes), in height (including hybrid height / pressure), time, realisation, and occasionally more unusual dimensions.\n",
    "\n",
    "Iris defines three types of coordinate:\n",
    "* **dimension coordinates** are strictly 1D and monotonic. They describe and name one of a cube's dimensions.\n",
    "* **auxiliary coordinates** have no restrictions on dimensionality or coordinate values. They are secondary (i.e. \"auxiliary\") metadata for describing one or more cube dimensions. E.g *'Forecast Period'* in the *alb_cube* above\n",
    "* **scalar coordinates** contain only a single value that is true for every point within the cube's data. E.g. *'height'* in the *alb_cube* above.\n",
    "\n",
    "Let's take a closer look at accessing the A1B cube's time coordinate:"
   ]
  },
  {
   "cell_type": "code",
   "execution_count": 35,
   "metadata": {},
   "outputs": [
    {
     "name": "stdout",
     "output_type": "stream",
     "text": [
      "DimCoord([1860-06-01 00:00:00, 1861-06-01 00:00:00, 1862-06-01 00:00:00,\n",
      "       1863-06-01 00:00:00, 1864-06-01 00:00:00, 1865-06-01 00:00:00,\n",
      "       1866-06-01 00:00:00, 1867-06-01 00:00:00, 1868-06-01 00:00:00,\n",
      "       1869-06-01 00:00:00], bounds=[[1859-12-01 00:00:00, 1860-12-01 00:00:00],\n",
      "       [1860-12-01 00:00:00, 1861-12-01 00:00:00],\n",
      "       [1861-12-01 00:00:00, 1862-12-01 00:00:00],\n",
      "       [1862-12-01 00:00:00, 1863-12-01 00:00:00],\n",
      "       [1863-12-01 00:00:00, 1864-12-01 00:00:00],\n",
      "       [1864-12-01 00:00:00, 1865-12-01 00:00:00],\n",
      "       [1865-12-01 00:00:00, 1866-12-01 00:00:00],\n",
      "       [1866-12-01 00:00:00, 1867-12-01 00:00:00],\n",
      "       [1867-12-01 00:00:00, 1868-12-01 00:00:00],\n",
      "       [1868-12-01 00:00:00, 1869-12-01 00:00:00]], standard_name='time', calendar='360_day', var_name='time')\n"
     ]
    }
   ],
   "source": [
    "t_coord = a1b_cube.coord('time')\n",
    "print(t_coord[:10])"
   ]
  },
  {
   "cell_type": "markdown",
   "metadata": {},
   "source": [
    "### Subsetting Cubes\n",
    "\n",
    "Iris provides a couple of different mechanisms for subsetting a cube: **indexing** and **constraints / extract**.\n",
    "\n",
    "Cubes can be **indexed** like NumPy arrays:"
   ]
  },
  {
   "cell_type": "code",
   "execution_count": 37,
   "metadata": {},
   "outputs": [
    {
     "data": {
      "text/html": [
       "\n",
       "<style>\n",
       "  a.iris {\n",
       "      text-decoration: none !important;\n",
       "  }\n",
       "  table.iris {\n",
       "      white-space: pre;\n",
       "      border: 1px solid;\n",
       "      border-color: #9c9c9c;\n",
       "      font-family: monaco, monospace;\n",
       "  }\n",
       "  th.iris {\n",
       "      background: #303f3f;\n",
       "      color: #e0e0e0;\n",
       "      border-left: 1px solid;\n",
       "      border-color: #9c9c9c;\n",
       "      font-size: 1.05em;\n",
       "      min-width: 50px;\n",
       "      max-width: 125px;\n",
       "  }\n",
       "  tr.iris :first-child {\n",
       "      border-right: 1px solid #9c9c9c !important;\n",
       "  }\n",
       "  td.iris-title {\n",
       "      background: #d5dcdf;\n",
       "      border-top: 1px solid #9c9c9c;\n",
       "      font-weight: bold;\n",
       "  }\n",
       "  .iris-word-cell {\n",
       "      text-align: left !important;\n",
       "      white-space: pre;\n",
       "  }\n",
       "  .iris-subheading-cell {\n",
       "      padding-left: 2em !important;\n",
       "  }\n",
       "  .iris-inclusion-cell {\n",
       "      padding-right: 1em !important;\n",
       "  }\n",
       "  .iris-panel-body {\n",
       "      padding-top: 0px;\n",
       "  }\n",
       "  .iris-panel-title {\n",
       "      padding-left: 3em;\n",
       "  }\n",
       "  .iris-panel-title {\n",
       "      margin-top: 7px;\n",
       "  }\n",
       "</style>\n",
       "<table class=\"iris\" id=\"140288390384608\">\n",
       "    <tr class=\"iris\">\n",
       "<th class=\"iris iris-word-cell\">Air Temperature (K)</th>\n",
       "<th class=\"iris iris-word-cell\">time</th>\n",
       "<th class=\"iris iris-word-cell\">longitude</th>\n",
       "</tr>\n",
       "    <tr class=\"iris\">\n",
       "<td class=\"iris-word-cell iris-subheading-cell\">Shape</td>\n",
       "<td class=\"iris iris-inclusion-cell\">10</td>\n",
       "<td class=\"iris iris-inclusion-cell\">5</td>\n",
       "</td>\n",
       "    <tr class=\"iris\">\n",
       "    <td class=\"iris-title iris-word-cell\">Dimension coordinates</td>\n",
       "    <td class=\"iris-title\"></td>\n",
       "    <td class=\"iris-title\"></td>\n",
       "</tr>\n",
       "<tr class=\"iris\">\n",
       "    <td class=\"iris-word-cell iris-subheading-cell\">\ttime</td>\n",
       "    <td class=\"iris-inclusion-cell\">x</td>\n",
       "    <td class=\"iris-inclusion-cell\">-</td>\n",
       "</tr>\n",
       "<tr class=\"iris\">\n",
       "    <td class=\"iris-word-cell iris-subheading-cell\">\tlongitude</td>\n",
       "    <td class=\"iris-inclusion-cell\">-</td>\n",
       "    <td class=\"iris-inclusion-cell\">x</td>\n",
       "</tr>\n",
       "<tr class=\"iris\">\n",
       "    <td class=\"iris-title iris-word-cell\">Auxiliary coordinates</td>\n",
       "    <td class=\"iris-title\"></td>\n",
       "    <td class=\"iris-title\"></td>\n",
       "</tr>\n",
       "<tr class=\"iris\">\n",
       "    <td class=\"iris-word-cell iris-subheading-cell\">\tforecast_period</td>\n",
       "    <td class=\"iris-inclusion-cell\">x</td>\n",
       "    <td class=\"iris-inclusion-cell\">-</td>\n",
       "</tr>\n",
       "<tr class=\"iris\">\n",
       "    <td class=\"iris-title iris-word-cell\">Scalar coordinates</td>\n",
       "    <td class=\"iris-title\"></td>\n",
       "    <td class=\"iris-title\"></td>\n",
       "</tr>\n",
       "<tr class=\"iris\">\n",
       "    <td class=\"iris-word-cell iris-subheading-cell\">\tforecast_reference_time</td>\n",
       "    <td class=\"iris-word-cell\" colspan=\"2\">1859-09-01 06:00:00</td>\n",
       "</tr>\n",
       "<tr class=\"iris\">\n",
       "    <td class=\"iris-word-cell iris-subheading-cell\">\theight</td>\n",
       "    <td class=\"iris-word-cell\" colspan=\"2\">1.5 m</td>\n",
       "</tr>\n",
       "<tr class=\"iris\">\n",
       "    <td class=\"iris-word-cell iris-subheading-cell\">\tlatitude</td>\n",
       "    <td class=\"iris-word-cell\" colspan=\"2\">33.75 degrees</td>\n",
       "</tr>\n",
       "<tr class=\"iris\">\n",
       "    <td class=\"iris-title iris-word-cell\">Attributes</td>\n",
       "    <td class=\"iris-title\"></td>\n",
       "    <td class=\"iris-title\"></td>\n",
       "</tr>\n",
       "<tr class=\"iris\">\n",
       "    <td class=\"iris-word-cell iris-subheading-cell\">\tConventions</td>\n",
       "    <td class=\"iris-word-cell\" colspan=\"2\">CF-1.5</td>\n",
       "</tr>\n",
       "<tr class=\"iris\">\n",
       "    <td class=\"iris-word-cell iris-subheading-cell\">\tModel scenario</td>\n",
       "    <td class=\"iris-word-cell\" colspan=\"2\">A1B</td>\n",
       "</tr>\n",
       "<tr class=\"iris\">\n",
       "    <td class=\"iris-word-cell iris-subheading-cell\">\tSTASH</td>\n",
       "    <td class=\"iris-word-cell\" colspan=\"2\">m01s03i236</td>\n",
       "</tr>\n",
       "<tr class=\"iris\">\n",
       "    <td class=\"iris-word-cell iris-subheading-cell\">\tsource</td>\n",
       "    <td class=\"iris-word-cell\" colspan=\"2\">Data from Met Office Unified Model 6.05</td>\n",
       "</tr>\n",
       "<tr class=\"iris\">\n",
       "    <td class=\"iris-title iris-word-cell\">Cell methods</td>\n",
       "    <td class=\"iris-title\"></td>\n",
       "    <td class=\"iris-title\"></td>\n",
       "</tr>\n",
       "<tr class=\"iris\">\n",
       "    <td class=\"iris-word-cell iris-subheading-cell\">\tmean</td>\n",
       "    <td class=\"iris-word-cell\" colspan=\"2\">time (6 hour)</td>\n",
       "</tr>\n",
       "</table>\n",
       "        "
      ],
      "text/plain": [
       "<iris 'Cube' of air_temperature / (K) (time: 10; longitude: 5)>"
      ]
     },
     "execution_count": 37,
     "metadata": {},
     "output_type": "execute_result"
    }
   ],
   "source": [
    "# Index the cube to get the first 10 time values, a single latitude value, and 5 longitude values.\n",
    "a1b_cube[:10, 15, 5:10]"
   ]
  },
  {
   "cell_type": "markdown",
   "metadata": {},
   "source": [
    "### Combining Cubes\n",
    "\n",
    "Iris provides functionality that takes a number of existing cubes and combines them to produce fewer output cubes:\n",
    "* **merge** takes multiple cubes that differ only in a scalar coordinate values and combines them to produce a new cube with a new dimension created from the scalar coordinate values\n",
    "\n",
    "![](images/merge.png)\n",
    "\n",
    "* **concatenate** extends an existing dimension on a cube by adding another cube to the end of the dimension.\n",
    "\n",
    "![](images/concat.png)\n",
    "\n",
    "\n",
    "Let's take a quick look at an example of merging a number of cubes:"
   ]
  },
  {
   "cell_type": "code",
   "execution_count": 41,
   "metadata": {},
   "outputs": [
    {
     "name": "stdout",
     "output_type": "stream",
     "text": [
      "0: air_temperature / (K)               (time: 120; latitude: 37; longitude: 49)\n",
      "1: air_temperature / (K)               (time: 120; latitude: 37; longitude: 49)\n"
     ]
    }
   ],
   "source": [
    "cube_0 = a1b_cube[:120]\n",
    "cube_1 = a1b_cube[120:]\n",
    "temp_cubes = iris.cube.CubeList([cube_0, cube_1])\n",
    "print(temp_cubes)"
   ]
  },
  {
   "cell_type": "markdown",
   "metadata": {},
   "source": [
    "We can merge these cubes together, producing a new cube from the different values found in the varying scalar coordinates:"
   ]
  },
  {
   "cell_type": "code",
   "execution_count": 42,
   "metadata": {},
   "outputs": [
    {
     "name": "stdout",
     "output_type": "stream",
     "text": [
      "air_temperature / (K)               (time: 240; latitude: 37; longitude: 49)\n",
      "     Dimension coordinates:\n",
      "          time                           x              -              -\n",
      "          latitude                       -              x              -\n",
      "          longitude                      -              -              x\n",
      "     Auxiliary coordinates:\n",
      "          forecast_period                x              -              -\n",
      "     Scalar coordinates:\n",
      "          forecast_reference_time: 1859-09-01 06:00:00\n",
      "          height: 1.5 m\n",
      "     Attributes:\n",
      "          Conventions: CF-1.5\n",
      "          Model scenario: A1B\n",
      "          STASH: m01s03i236\n",
      "          source: Data from Met Office Unified Model 6.05\n",
      "     Cell methods:\n",
      "          mean: time (6 hour)\n"
     ]
    }
   ],
   "source": [
    "concat_cube = cubes.concatenate_cube()\n",
    "print(concat_cube)"
   ]
  },
  {
   "cell_type": "markdown",
   "metadata": {},
   "source": [
    "### Analysis and Statistics\n",
    "\n",
    "Let's return to the A1B scenario cube and perform some analysis on this cube by statistically collapsing the time dimension to find the mean average air temperature over time at each `(latitude, longitude)` grid point:"
   ]
  },
  {
   "cell_type": "code",
   "execution_count": 44,
   "metadata": {},
   "outputs": [
    {
     "name": "stdout",
     "output_type": "stream",
     "text": [
      "air_temperature / (K)               (time: 240; latitude: 37; longitude: 49)\n",
      "     Dimension coordinates:\n",
      "          time                           x              -              -\n",
      "          latitude                       -              x              -\n",
      "          longitude                      -              -              x\n",
      "     Auxiliary coordinates:\n",
      "          forecast_period                x              -              -\n",
      "     Scalar coordinates:\n",
      "          forecast_reference_time: 1859-09-01 06:00:00\n",
      "          height: 1.5 m\n",
      "     Attributes:\n",
      "          Conventions: CF-1.5\n",
      "          Model scenario: A1B\n",
      "          STASH: m01s03i236\n",
      "          source: Data from Met Office Unified Model 6.05\n",
      "     Cell methods:\n",
      "          mean: time (6 hour)\n",
      "----------------------------------------------------------------------------------------------------\n",
      "air_temperature / (K)               (latitude: 37; longitude: 49)\n",
      "     Dimension coordinates:\n",
      "          latitude                           x              -\n",
      "          longitude                          -              x\n",
      "     Scalar coordinates:\n",
      "          forecast_period: 1043274 hours, bound=(10794, 2075754) hours\n",
      "          forecast_reference_time: 1859-09-01 06:00:00\n",
      "          height: 1.5 m\n",
      "          time: 1979-12-01 00:00:00, bound=(1859-12-01 00:00:00, 2099-12-01 00:00:00)\n",
      "     Attributes:\n",
      "          Conventions: CF-1.5\n",
      "          Model scenario: A1B\n",
      "          STASH: m01s03i236\n",
      "          source: Data from Met Office Unified Model 6.05\n",
      "     Cell methods:\n",
      "          mean: time (6 hour)\n",
      "          mean: time\n"
     ]
    },
    {
     "name": "stderr",
     "output_type": "stream",
     "text": [
      "/opt/scitools/environments/experimental/2019_03_18-1/lib/python3.6/site-packages/iris/coords.py:1355: UserWarning: Collapsing a non-contiguous coordinate. Metadata may not be fully descriptive for 'forecast_period'.\n",
      "  warnings.warn(msg.format(self.name()))\n"
     ]
    }
   ],
   "source": [
    "time_mean_cube = a1b_cube.collapsed('time', iris.analysis.MEAN)\n",
    "print(a1b_cube)\n",
    "print('--' * 50)\n",
    "print(time_mean_cube)"
   ]
  },
  {
   "cell_type": "markdown",
   "metadata": {},
   "source": [
    "We have lost (or \"consumed\") the time dimension by collapsing along it. The data of the resultant 2D cube records the mean average air temperature at each grid point.\n",
    "\n",
    "Iris contains a number of different statistical operators that can be applied in this way, including `mean` (as above), `std`, `min`, `max`, `percentile` and others. Iris can also define custom categorisations for a coordinate and `aggregate_by` the different categorisations, and also collapse on a `rolling_window`."
   ]
  },
  {
   "cell_type": "markdown",
   "metadata": {},
   "source": [
    "### Visualisation\n",
    "\n",
    "We can plot the collapsed 2D cube to produce a map showing the mean average air temperature over north America according to the A1B climate scenario. Iris provides various plotting routines from matplotlib that have been made cube-aware. Iris plotting also integrates seamlessly with matplotlib, so in the cell below we produce a plot using Iris plotting functionality and show it using matplotlib functionality:"
   ]
  },
  {
   "cell_type": "code",
   "execution_count": 45,
   "metadata": {},
   "outputs": [],
   "source": [
    "# matplotlib simple plotting interface\n",
    "import matplotlib.pyplot as plt\n",
    "\n",
    "# Set the default matplotlib figure size.\n",
    "plt.rcParams['figure.figsize'] = (10, 8)\n",
    "\n",
    "# iris quick-plots interface\n",
    "import iris.quickplot as qplt"
   ]
  },
  {
   "cell_type": "code",
   "execution_count": 46,
   "metadata": {},
   "outputs": [
    {
     "name": "stderr",
     "output_type": "stream",
     "text": [
      "/opt/scitools/environments/experimental/2019_03_18-1/lib/python3.6/site-packages/iris/coords.py:1138: UserWarning: Coordinate 'longitude' is not bounded, guessing contiguous bounds.\n",
      "  'contiguous bounds.'.format(self.name()))\n",
      "/opt/scitools/environments/experimental/2019_03_18-1/lib/python3.6/site-packages/iris/coords.py:1138: UserWarning: Coordinate 'latitude' is not bounded, guessing contiguous bounds.\n",
      "  'contiguous bounds.'.format(self.name()))\n"
     ]
    },
    {
     "data": {
      "image/png": "[encoded data removed]",
      "text/plain": [
       "<Figure size 432x288 with 2 Axes>"
      ]
     },
     "metadata": {
      "needs_background": "light"
     },
     "output_type": "display_data"
    }
   ],
   "source": [
    "qplt.pcolormesh(time_mean_cube, cmap='inferno')\n",
    "plt.show()"
   ]
  },
  {
   "cell_type": "markdown",
   "metadata": {},
   "source": [
    "We'll look in more detail at what's going on here in the section below on cartopy."
   ]
  },
  {
   "cell_type": "markdown",
   "metadata": {},
   "source": [
    "We could also use a constraint (like shown above) to extract all the time values at a single point and plot the change in air temperature at that point over time. For example, let's find out how air temperature changes over time in New York:"
   ]
  },
  {
   "cell_type": "code",
   "execution_count": 47,
   "metadata": {},
   "outputs": [
    {
     "name": "stdout",
     "output_type": "stream",
     "text": [
      "air_temperature / (K)               (time: 240)\n",
      "     Dimension coordinates:\n",
      "          time                           x\n",
      "     Auxiliary coordinates:\n",
      "          forecast_period                x\n",
      "     Scalar coordinates:\n",
      "          forecast_reference_time: 1859-09-01 06:00:00\n",
      "          height: 1.5 m\n",
      "          latitude: 40.0 degrees\n",
      "          longitude: 286.875 degrees\n",
      "     Attributes:\n",
      "          Conventions: CF-1.5\n",
      "          Model scenario: A1B\n",
      "          STASH: m01s03i236\n",
      "          source: Data from Met Office Unified Model 6.05\n",
      "     Cell methods:\n",
      "          mean: time (6 hour)\n"
     ]
    }
   ],
   "source": [
    "ny_lat = 40.42\n",
    "ny_lon = 286.00\n",
    "\n",
    "# Use approximate horizontal resolution to make sure we extract the grid box\n",
    "# containing New York.\n",
    "lat_res = 0.5\n",
    "lon_res = 0.9\n",
    "location_lat = lambda cell: ny_lat - lat_res <= cell <= ny_lat + lat_res\n",
    "location_lon = lambda cell: ny_lon - lon_res <= cell <= ny_lon + lon_res\n",
    "\n",
    "ny_location_constraint = iris.Constraint(latitude=location_lat,\n",
    "                                         longitude=location_lon)\n",
    "ny_location_cube = a1b_cube.extract(ny_location_constraint)\n",
    "\n",
    "print(ny_location_cube)"
   ]
  },
  {
   "cell_type": "code",
   "execution_count": 48,
   "metadata": {},
   "outputs": [
    {
     "data": {
      "image/png": "[encoded data removed]",
      "text/plain": [
       "<Figure size 432x288 with 1 Axes>"
      ]
     },
     "metadata": {
      "needs_background": "light"
     },
     "output_type": "display_data"
    }
   ],
   "source": [
    "qplt.plot(ny_location_cube)\n",
    "plt.show()"
   ]
  },
  {
   "cell_type": "markdown",
   "metadata": {},
   "source": [
    "***"
   ]
  },
  {
   "cell_type": "markdown",
   "metadata": {},
   "source": [
    "## Cartopy\n",
    "\n",
    "[Cartopy](http://scitools.org.uk/cartopy/docs/latest/index.html) adds cartographic map production functionality to matplotlib allowing plotting of geolocated data onto map projections of the earth's surface. \n",
    "\n",
    "Cartopy provides:\n",
    "* a Python interface to the `proj.4` library\n",
    "* an Iris interface\n",
    "* extensive feature plotting, and\n",
    "* interfaces to other geolocated data formats including shapefiles, web map service providers, and others.\n",
    "\n",
    "### Map Projections\n",
    "\n",
    "Cartopy uses the `proj.4` library to provide map projections that can be used to plot geolocated data. We've already used this functionality when we produced the map plot of the mean average air temperatures over north America. In this case the projection used for the map was the coordinate reference system specified by the cube's `latitude` and `longitude` coordinates:"
   ]
  },
  {
   "cell_type": "code",
   "execution_count": 49,
   "metadata": {},
   "outputs": [
    {
     "data": {
      "image/png": "[encoded data removed]",
      "text/plain": [
       "<Figure size 432x288 with 2 Axes>"
      ]
     },
     "metadata": {
      "needs_background": "light"
     },
     "output_type": "display_data"
    }
   ],
   "source": [
    "qplt.pcolormesh(time_mean_cube, cmap='inferno')\n",
    "ax = plt.gca()\n",
    "ax.coastlines()\n",
    "plt.show()"
   ]
  },
  {
   "cell_type": "markdown",
   "metadata": {},
   "source": [
    "We can also specify the projection we wish to show our data in by using the `projection` keyword argument when setting up a cartopy geoaxes instance. In this case the data to be plotted will be transformed from its coordinate reference system to the specified projection:"
   ]
  },
  {
   "cell_type": "code",
   "execution_count": 50,
   "metadata": {},
   "outputs": [
    {
     "data": {
      "image/png": "[encoded data removed]",
      "text/plain": [
       "<Figure size 432x288 with 2 Axes>"
      ]
     },
     "metadata": {
      "needs_background": "light"
     },
     "output_type": "display_data"
    }
   ],
   "source": [
    "ax = plt.axes(projection=ccrs.LambertConformal())\n",
    "qplt.pcolormesh(time_mean_cube, cmap='inferno')\n",
    "ax.coastlines()\n",
    "plt.show()"
   ]
  },
  {
   "cell_type": "markdown",
   "metadata": {},
   "source": [
    "### The Feature Interface\n",
    "\n",
    "We've used part of the cartopy feature interface to draw the coastlines on these plots. The `coastlines` method is provided as part of the cartopy `GeoAxes` class API as a convenience method. There are a number of commonly used geographic features provided as convenience attributes of the cartopy feature class:"
   ]
  },
  {
   "cell_type": "code",
   "execution_count": null,
   "metadata": {},
   "outputs": [],
   "source": [
    "# Add coastlines to the map.\n",
    "ax = plt.axes(projection=ccrs.PlateCarree())\n",
    "ax.add_feature(cfeat.COASTLINE)  # Equivalent to `ax.coastlines()`\n",
    "plt.show()"
   ]
  },
  {
   "cell_type": "code",
   "execution_count": null,
   "metadata": {},
   "outputs": [],
   "source": [
    "# Add land and ocean features, that come with preset face colours.\n",
    "ax = plt.axes(projection=ccrs.PlateCarree())\n",
    "ax.add_feature(cfeat.COASTLINE)\n",
    "ax.add_feature(cfeat.LAND)\n",
    "ax.add_feature(cfeat.OCEAN)\n",
    "plt.show()"
   ]
  },
  {
   "cell_type": "code",
   "execution_count": null,
   "metadata": {},
   "outputs": [],
   "source": [
    "# Add country borders.\n",
    "ax = plt.axes(projection=ccrs.PlateCarree())\n",
    "ax.add_feature(cfeat.COASTLINE)\n",
    "ax.add_feature(cfeat.LAND)\n",
    "ax.add_feature(cfeat.OCEAN)\n",
    "ax.add_feature(cfeat.BORDERS, linestyle=':')\n",
    "plt.show()"
   ]
  },
  {
   "cell_type": "code",
   "execution_count": null,
   "metadata": {},
   "outputs": [],
   "source": [
    "# And finally, add lakes and rivers.\n",
    "plt.figure()\n",
    "for i_subplot in (211, 212):\n",
    "    ax = plt.subplot(i_subplot, projection=ccrs.PlateCarree())\n",
    "    ax.add_feature(cfeat.COASTLINE)\n",
    "    ax.add_feature(cfeat.LAND)\n",
    "    ax.add_feature(cfeat.OCEAN)\n",
    "    ax.add_feature(cfeat.BORDERS, linestyle=':')\n",
    "    ax.add_feature(cfeat.LAKES, alpha=0.5)\n",
    "    ax.add_feature(cfeat.RIVERS)\n",
    "    if i_subplot == 212:\n",
    "        ax.set_extent((-175, -90, 40, 70))\n",
    "plt.show()\n"
   ]
  },
  {
   "cell_type": "markdown",
   "metadata": {},
   "source": [
    "### Extraterrestrial Cartography\n",
    "\n",
    "Cartopy, is not limited to Earth Cartography. This same methods can be applied to any spheroid object, by defininig the ellipse of the object.\n",
    "\n",
    "The following example is taken from the [Cartopy gallery](https://scitools.org.uk/cartopy/docs/latest/gallery/eccentric_ellipse.html#sphx-glr-gallery-eccentric-ellipse-py).\n",
    "\n",
    "The below image shows the topography of the asteroid vesta.\n",
    "\n",
    "![](https://www.nasa.gov/sites/default/files/pia17037.jpg)\n",
    "\n",
    "We would like to reproject this data onto a Geostationary projection.\n",
    "\n",
    "First we need to define a function that downloads the topography map and returns it, along with information about the coordinate system, and extent of the image."
   ]
  },
  {
   "cell_type": "code",
   "execution_count": 52,
   "metadata": {},
   "outputs": [],
   "source": [
    "from urllib.request import urlopen\n",
    "from io import BytesIO\n",
    "\n",
    "from PIL import Image\n",
    "\n",
    "def vesta_image():\n",
    "    \"\"\"\n",
    "    Return an image of Vesta's topography.\n",
    "\n",
    "    Image credit: NASA/JPL-Caltech/UCLA/MPS/DLR/IDA/PSI\n",
    "\n",
    "    Returns\n",
    "    -------\n",
    "    img : numpy array\n",
    "        The pixels of the image in a numpy array.\n",
    "    img_proj : cartopy CRS\n",
    "        The rectangular coordinate system of the image.\n",
    "    img_extent : tuple of floats\n",
    "        The extent of the image ``(x0, y0, x1, y1)`` referenced in\n",
    "        the ``img_proj`` coordinate system.\n",
    "\n",
    "    \"\"\"\n",
    "    url = 'https://www.nasa.gov/sites/default/files/pia17037.jpg'\n",
    "    img_handle = BytesIO(urlopen(url).read())\n",
    "    raw_image = Image.open(img_handle)\n",
    "    # The image is extremely high-resolution, which takes a long time to\n",
    "    # plot. Sub-sampling reduces the time taken to plot while not\n",
    "    # significantly altering the integrity of the result.\n",
    "    smaller_image = raw_image.resize([raw_image.size[0] // 10,\n",
    "                                      raw_image.size[1] // 10])\n",
    "    img = np.asarray(smaller_image)\n",
    "    # We define the semimajor and semiminor axes, but must also tell the\n",
    "    # globe not to use the WGS84 ellipse, which is its default behaviour.\n",
    "    img_globe = ccrs.Globe(semimajor_axis=285000., semiminor_axis=229000.,\n",
    "                           ellipse=None)\n",
    "    img_proj = ccrs.PlateCarree(globe=img_globe)\n",
    "    img_extent = (-895353.906273091, 895353.906273091,\n",
    "                  447676.9531365455, -447676.9531365455)\n",
    "    return img, img_globe, img_proj, img_extent"
   ]
  },
  {
   "cell_type": "markdown",
   "metadata": {},
   "source": [
    "We can then use that function to plot the image it returns on a Geostationary projection."
   ]
  },
  {
   "cell_type": "code",
   "execution_count": 53,
   "metadata": {},
   "outputs": [
    {
     "data": {
      "image/png": "[encoded data removed]",
      "text/plain": [
       "<Figure size 432x288 with 1 Axes>"
      ]
     },
     "metadata": {
      "needs_background": "light"
     },
     "output_type": "display_data"
    }
   ],
   "source": [
    "img, globe, crs, extent = vesta_image()\n",
    "projection = ccrs.Geostationary(globe=globe)\n",
    "\n",
    "ax = plt.axes(projection=projection)\n",
    "ax.imshow(img, transform=crs, extent=extent)\n",
    "ax.text(.075, .012, \"Image credit: NASA/JPL-Caltech/UCLA/MPS/DLR/IDA/PSI\",\n",
    "         bbox={'facecolor': 'w', 'edgecolor': 'k'})\n",
    "plt.show()"
   ]
  },
  {
   "cell_type": "markdown",
   "metadata": {},
   "source": [
    "***"
   ]
  },
  {
   "cell_type": "markdown",
   "metadata": {},
   "source": [
    "## Exercise"
   ]
  },
  {
   "cell_type": "code",
   "execution_count": null,
   "metadata": {},
   "outputs": [],
   "source": []
  }
 ],
 "metadata": {
  "kernelspec": {
   "display_name": "experimental-current",
   "language": "python",
   "name": "experimental-current"
  },
  "language_info": {
   "codemirror_mode": {
    "name": "ipython",
    "version": 3
   },
   "file_extension": ".py",
   "mimetype": "text/x-python",
   "name": "python",
   "nbconvert_exporter": "python",
   "pygments_lexer": "ipython3",
   "version": "3.6.6"
  }
 },
 "nbformat": 4,
 "nbformat_minor": 2
}
